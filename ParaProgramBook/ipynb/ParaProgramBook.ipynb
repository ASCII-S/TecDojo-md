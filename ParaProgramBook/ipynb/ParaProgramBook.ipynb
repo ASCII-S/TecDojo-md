{
 "cells": [
  {
   "cell_type": "raw",
   "id": "ce3f5edb",
   "metadata": {},
   "source": [
    "---\n",
    "Current page: 201\n",
    "Date started: 2024-10-11\n",
    "Progress: \"0.54\"\n",
    "Status: Reading\n",
    "Total pages: 372\n",
    "---"
   ]
  },
  {
   "cell_type": "markdown",
   "id": "346f70ca",
   "metadata": {},
   "source": [
    "# 《并行程序设计》学习笔记\n",
    "\n",
    "## 📝 内容概览\n",
    "本书介绍了各种并行程序设计技术，包括C++多线程编程、OpenMP、CUDA和MPI等并行编程模型，适合希望学习高性能并行计算的读者。\n",
    "\n",
    "## 📋 章节目录\n",
    "- [[04-C++多线程编程]] - C++原生多线程编程基础\n",
    "- [[05-高级C++11多线程]] - C++11引入的高级多线程特性\n",
    "- [[06-OpenMP]] - 基于指令的共享内存并行编程模型\n",
    "- [[07-CUDA]] - NVIDIA GPU并行编程模型\n",
    "- [[09-MPI]] - 消息传递接口并行编程\n",
    "\n",
    "## 🔍 重点内容索引\n",
    "- [[notes/lambda表达式是什么]] - C++11引入的匿名函数\n",
    "- [[notes/mpi基础]] - MPI基础知识\n",
    "- [[notes/点对点通信]] - MPI点对点通信\n",
    "- [[notes/MPI集体通信]] - MPI集体通信操作\n",
    "\n",
    "## 📚 参考资源\n",
    "- 书籍配套代码：[[.CodeReference/README]]"
   ]
  }
 ],
 "metadata": {
  "jupytext": {
   "cell_metadata_filter": "-all",
   "main_language": "python",
   "notebook_metadata_filter": "-all"
  }
 },
 "nbformat": 4,
 "nbformat_minor": 5
}
