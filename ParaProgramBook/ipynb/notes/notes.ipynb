{
 "cells": [
  {
   "cell_type": "markdown",
   "id": "795c76d6",
   "metadata": {},
   "source": [
    "# 碎片知识索引\n",
    "\n",
    "## 🧠 核心概念\n",
    "- [[lambda表达式是什么]] - C++11中的匿名函数语法\n",
    "- [[operator是什么]] - C++运算符重载概念\n",
    "- [[基本用法]] - 线程基本使用方法\n",
    "\n",
    "## 🛠️ 技术实现\n",
    "- [[mpi基础]] - MPI编程基础知识\n",
    "- [[点对点通信]] - MPI点对点通信机制\n",
    "- [[MPI集体通信]] - MPI集体通信操作\n",
    "- [[MPI 数据分散与全局操作]] - MPI数据分发与规约\n",
    "\n",
    "## ⚠️ 常见问题与陷阱\n",
    "- [[举个例子解释原子变量的多个操作可能导致错误]] - 原子操作组合的问题\n",
    "- [[具体代码-gpt]] - 常见代码实现问题 "
   ]
  }
 ],
 "metadata": {
  "jupytext": {
   "cell_metadata_filter": "-all",
   "main_language": "python",
   "notebook_metadata_filter": "-all"
  }
 },
 "nbformat": 4,
 "nbformat_minor": 5
}
