{
 "cells": [
  {
   "cell_type": "markdown",
   "id": "34496c40",
   "metadata": {},
   "source": [
    "[[第 4 章 c++多线程编程]]\n",
    "\n",
    "---\n",
    "\n",
    "## c++组件\n",
    "\n",
    "- `**std::thread**`：用于创建和管理线程。在 `#include<thread>` 中声明\n",
    "- `**std::mutex**`：用于线程之间的互斥，防止多个线程同时访问共享资源。\n",
    "- `**std::lock_guard**` 和 `**std::unique_lock**`：用于管理锁的获取和释放。\n",
    "- `**std::condition_variable**`：用于线程间的条件变量，协调线程间的等待和通知。\n",
    "- `**std::future**` 和 `**std::promise**`：用于实现线程间的值传递和任务同步。\n",
    "\n",
    "## 创建线程"
   ]
  },
  {
   "cell_type": "code",
   "execution_count": null,
   "id": "10e3643a",
   "metadata": {
    "language": "C++"
   },
   "outputs": [],
   "source": [
    "\\#include<thread>\n",
    "std::thread thread_object(callable, args...);"
   ]
  },
  {
   "cell_type": "markdown",
   "id": "35c46ec1",
   "metadata": {},
   "source": [
    "- `**callable**`：可调用对象，可以是函数指针、函数对象、Lambda 表达式等。\n",
    "- `**args...**`：传递给 `callable` 的参数列表。"
   ]
  },
  {
   "cell_type": "code",
   "execution_count": null,
   "id": "b826e45d",
   "metadata": {
    "language": "C++"
   },
   "outputs": [],
   "source": [
    "g++ -std=c++11 test.cpp "
   ]
  },
  {
   "cell_type": "markdown",
   "id": "e3aa769a",
   "metadata": {},
   "source": [
    "### 使用函数指针\n",
    "\n",
    "直接传入函数的指针"
   ]
  },
  {
   "cell_type": "code",
   "execution_count": null,
   "id": "d901f5db",
   "metadata": {
    "language": "C++"
   },
   "outputs": [],
   "source": [
    "\\#include <iostream>\n",
    "\\#include <thread>\n",
    "\n",
    "void printMessage(int count) {\n",
    "    for (int i = 0; i < count; ++i) {\n",
    "        std::cout << \"Hello from thread (function pointer)!\\n\";\n",
    "    }\n",
    "}\n",
    "\n",
    "int main() {\n",
    "    std::thread t1(printMessage, 5); // 创建线程，传递函数指针和参数\n",
    "    t1.join(); // 等待线程完成\n",
    "    return 0;\n",
    "}"
   ]
  },
  {
   "cell_type": "markdown",
   "id": "cb938577",
   "metadata": {},
   "source": [
    "### 使用函数对象-类中的函数\n",
    "\n",
    "通过类中的 `operator()` 方法定义函数对象来创建线程：\n",
    "\n",
    "[[operator是什么]]"
   ]
  },
  {
   "cell_type": "code",
   "execution_count": null,
   "id": "12ea1b0d",
   "metadata": {
    "language": "C++"
   },
   "outputs": [],
   "source": [
    "\\#include <iostream>\n",
    "\\#include <thread>\n",
    "\n",
    "class PrintTask {\n",
    "public:\n",
    "    void operator()(int count) const {\n",
    "        for (int i = 0; i < count; ++i) {\n",
    "            std::cout << \"Hello from thread (function object)!\\n\";\n",
    "        }\n",
    "    }\n",
    "};\n",
    "\n",
    "int main() {\n",
    "    std::thread t2(PrintTask(), 5); // 创建线程，传递函数对象和参数\n",
    "    t2.join(); // 等待线程完成\n",
    "    return 0;\n",
    "}"
   ]
  },
  {
   "cell_type": "markdown",
   "id": "9dc3158c",
   "metadata": {},
   "source": [
    "### 使用lambda表达式\n",
    "\n",
    "[[lambda表达式是什么]]\n",
    "\n",
    "[[lambda表达式是什么 2]]"
   ]
  },
  {
   "cell_type": "code",
   "execution_count": null,
   "id": "10b1ac6f",
   "metadata": {
    "language": "C++"
   },
   "outputs": [],
   "source": [
    "\\#include <iostream>\n",
    "\\#include <thread>\n",
    "\n",
    "int main() {\n",
    "    std::thread t3([](int count) {\n",
    "        for (int i = 0; i < count; ++i) {\n",
    "            std::cout << \"Hello from thread (lambda)!\\n\";\n",
    "        }\n",
    "    }, 5); // 创建线程，传递 Lambda 表达式和参数\n",
    "    t3.join(); // 等待线程完成\n",
    "    return 0;\n",
    "}"
   ]
  },
  {
   "cell_type": "markdown",
   "id": "ffa826c2",
   "metadata": {},
   "source": [
    "---\n",
    "\n",
    "## 创建线程的传参\n",
    "\n",
    "### **值传递**\n",
    "\n",
    "参数可以通过值传递给线程：\n",
    "\n",
    "```Plain\n",
    "std::thread t(func, arg1, arg2);\n",
    "```\n",
    "\n",
    "### **引用传递**\n",
    "\n",
    "如果需要传递引用参数，需要使用 `std::ref`："
   ]
  },
  {
   "cell_type": "code",
   "execution_count": null,
   "id": "b443f264",
   "metadata": {
    "language": "C++"
   },
   "outputs": [],
   "source": [
    "\\#include <iostream>\n",
    "\\#include <thread>\n",
    "\n",
    "void increment(int& x) {\n",
    "    ++x;\n",
    "}\n",
    "\n",
    "int main() {\n",
    "    int num = 0;\n",
    "    std::thread t(increment, std::ref(num)); // 使用 std::ref 传递引用\n",
    "    t.join();\n",
    "    std::cout << \"Value after increment: \" << num << std::endl;\n",
    "    return 0;\n",
    "}"
   ]
  },
  {
   "cell_type": "markdown",
   "id": "877036ff",
   "metadata": {},
   "source": [
    "---\n"
   ]
  },
  {
   "cell_type": "markdown",
   "id": "87c70adc",
   "metadata": {},
   "source": [
    "## 线程管理\n",
    "\n",
    "### **join()**\n",
    "\n",
    "join() 用于等待线程完成执行。如果不调用 join() 或 detach() 而直接销毁线程对象，会导致程序崩溃。"
   ]
  },
  {
   "cell_type": "code",
   "execution_count": null,
   "id": "b2241e28",
   "metadata": {
    "language": "C++"
   },
   "outputs": [],
   "source": [
    "t.join();"
   ]
  },
  {
   "cell_type": "markdown",
   "id": "7aab5e4e",
   "metadata": {},
   "source": [
    "### **detach()**\n",
    "\n",
    "detach() 将线程与主线程分离，线程在后台独立运行，主线程不再等待它。"
   ]
  },
  {
   "cell_type": "code",
   "execution_count": null,
   "id": "db77a33c",
   "metadata": {
    "language": "C++"
   },
   "outputs": [],
   "source": [
    "t.detach();"
   ]
  },
  {
   "cell_type": "markdown",
   "id": "571a54e8",
   "metadata": {},
   "source": [
    "---\n",
    "\n",
    "## 线程同步与互斥\n",
    "\n",
    "###  **互斥量（Mutex）**\n",
    "\n",
    "`**std::mutex**`：用于保护共享资源，防止数据竞争。"
   ]
  },
  {
   "cell_type": "code",
   "execution_count": null,
   "id": "4d666a1a",
   "metadata": {
    "language": "C++"
   },
   "outputs": [],
   "source": [
    "std::mutex mtx;\n",
    "mtx.lock();   // 锁定互斥锁\n",
    "// 访问共享资源\n",
    "mtx.unlock(); // 释放互斥锁"
   ]
  },
  {
   "cell_type": "markdown",
   "id": "5b07a740",
   "metadata": {},
   "source": [
    "`**std::lock_guard**`和  `**std::unique_lock**`：自动管理锁的获取和释放。"
   ]
  },
  {
   "cell_type": "code",
   "execution_count": null,
   "id": "17f6c2eb",
   "metadata": {
    "language": "C++"
   },
   "outputs": [],
   "source": [
    "std::lock_guard<std::mutex> lock(mtx); // 自动锁定和解锁\n",
    "// 访问共享资源"
   ]
  },
  {
   "cell_type": "markdown",
   "id": "6bf8ad00",
   "metadata": {},
   "source": [
    "互斥量的使用示例："
   ]
  },
  {
   "cell_type": "code",
   "execution_count": null,
   "id": "df9eecbe",
   "metadata": {
    "language": "C++"
   },
   "outputs": [],
   "source": [
    "\\#include <mutex>\n",
    "\n",
    "std::mutex mtx; // 全局互斥量\n",
    "\n",
    "void safeFunction() {\n",
    "    mtx.lock(); // 请求锁定互斥量\n",
    "    // 访问或修改共享资源\n",
    "    mtx.unlock(); // 释放互斥量\n",
    "}\n",
    "\n",
    "int main() {\n",
    "    std::thread t1(safeFunction);\n",
    "    std::thread t2(safeFunction);\n",
    "    t1.join();\n",
    "    t2.join();\n",
    "    return 0;\n",
    "}"
   ]
  },
  {
   "cell_type": "markdown",
   "id": "abe1f591",
   "metadata": {},
   "source": [
    "### **锁（Locks）**\n",
    "\n",
    "常见的锁类型包括：\n",
    "\n",
    "- `std::lock_guard`：作用域锁，当构造时自动锁定互斥量，当析构时自动解锁。\n",
    "- `std::unique_lock`：与std::lock_guard类似，但提供了更多的灵活性，例如可以转移所有权和手动解锁。\n",
    "\n",
    "### **条件变量（Condition Variable）**\n",
    "\n",
    "条件变量用于线程间的协调，允许一个或多个线程等待某个条件的发生。它通常与互斥量一起使用，以实现线程间的同步。\n",
    "\n",
    "`**std::condition_variable**`用于实现线程间的等待和通知机制。\n",
    "\n",
    "条件变量的使用示例"
   ]
  },
  {
   "cell_type": "code",
   "execution_count": null,
   "id": "cafdab14",
   "metadata": {
    "language": "C++"
   },
   "outputs": [],
   "source": [
    "\\#include <mutex>\n",
    "\\#include <condition_variable>\n",
    "\n",
    "std::mutex mtx;\n",
    "std::condition_variable cv;\n",
    "bool ready = false;\n",
    "\n",
    "void workerThread() {\n",
    "    std::unique_lock<std::mutex> lk(mtx);\n",
    "    cv.wait(lk, []{ return ready; }); // 等待条件\n",
    "    // 当条件满足时执行工作\n",
    "}\n",
    "\n",
    "void mainThread() {\n",
    "    {\n",
    "        std::lock_guard<std::mutex> lk(mtx);\n",
    "        // 准备数据\n",
    "        ready = true;\n",
    "    } // 离开作用域时解锁\n",
    "    cv.notify_one(); // 通知一个等待的线程\n",
    "}"
   ]
  },
  {
   "cell_type": "markdown",
   "id": "6e6eb431",
   "metadata": {},
   "source": [
    "### **原子操作（Atomic Operations）**\n",
    "\n",
    "原子操作的使用示例："
   ]
  },
  {
   "cell_type": "code",
   "execution_count": null,
   "id": "d9deca4c",
   "metadata": {
    "language": "C++"
   },
   "outputs": [],
   "source": [
    "\\#include <atomic>\n",
    "\\#include <thread>\n",
    "\n",
    "std::atomic<int> count(0);\n",
    "\n",
    "void increment() {\n",
    "    count.fetch_add(1, std::memory_order_relaxed);\n",
    "}\n",
    "\n",
    "int main() {\n",
    "    std::thread t1(increment);\n",
    "    std::thread t2(increment);\n",
    "    t1.join();\n",
    "    t2.join();\n",
    "    return count; // 应返回2\n",
    "}"
   ]
  },
  {
   "cell_type": "markdown",
   "id": "ff7cbd09",
   "metadata": {},
   "source": [
    "- `**fetch_add(1, std::memory_order_relaxed)**` 是一个原子操作，执行以下操作：\n",
    "    - **增加** `**count**` 的值，增加的数量是 `**1**`。\n",
    "    - **返回** 操作之前的值。\n",
    "    - **内存序** 参数 `**std::memory_order_relaxed**` 表示对内存的访问没有顺序约束，即不需要保证其他线程对 `**count**` 的操作会在这个操作之前或之后发生。\n",
    "\n",
    "### **线程局部存储（Thread Local Storage, TLS）**\n",
    "\n",
    "线程局部存储允许每个线程拥有自己的数据副本。这可以通过thread_local关键字实现，避免了对共享资源的争用。\n",
    "\n",
    "线程局部存储的使用示例："
   ]
  },
  {
   "cell_type": "code",
   "execution_count": null,
   "id": "b698a573",
   "metadata": {
    "language": "C++"
   },
   "outputs": [],
   "source": [
    "\\#include <iostream>\n",
    "\\#include <thread>\n",
    "\n",
    "thread_local int threadData = 0;\n",
    "\n",
    "void threadFunction() {\n",
    "    threadData = 42; // 每个线程都有自己的threadData副本\n",
    "    std::cout << \"Thread data: \" << threadData << std::endl;\n",
    "}\n",
    "\n",
    "int main() {\n",
    "    std::thread t1(threadFunction);\n",
    "    std::thread t2(threadFunction);\n",
    "    t1.join();\n",
    "    t2.join();\n",
    "    return 0;\n",
    "}"
   ]
  },
  {
   "cell_type": "markdown",
   "id": "d6784218",
   "metadata": {},
   "source": [
    "---\n",
    "\n",
    "[[第 4 章 c++多线程编程]]"
   ]
  }
 ],
 "metadata": {
  "jupytext": {
   "cell_metadata_filter": "language,-all",
   "main_language": "c++",
   "notebook_metadata_filter": "-all"
  }
 },
 "nbformat": 4,
 "nbformat_minor": 5
}
