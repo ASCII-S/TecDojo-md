{
 "cells": [
  {
   "cell_type": "markdown",
   "id": "04330e94",
   "metadata": {},
   "source": [
    "[[并行程序设计]]\n",
    "\n",
    "---\n",
    "\n",
    "[[大纲安排]]\n",
    "\n",
    "[[mpi基础]]\n",
    "\n",
    "[[点对点通信]]\n",
    "\n",
    "[[MPI集体通信]]\n",
    "\n",
    "[[MPI 数据分散与全局操作]]"
   ]
  }
 ],
 "metadata": {
  "jupytext": {
   "cell_metadata_filter": "-all",
   "main_language": "python",
   "notebook_metadata_filter": "-all"
  }
 },
 "nbformat": 4,
 "nbformat_minor": 5
}
