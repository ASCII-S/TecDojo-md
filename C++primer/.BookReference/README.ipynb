{
 "cells": [
  {
   "cell_type": "markdown",
   "id": "2204d3eb",
   "metadata": {},
   "source": [
    "# C++ Primer 参考资料\n",
    "\n",
    "本目录用于存放《C++ Primer》相关的参考资料。\n",
    "\n",
    "## 书籍信息\n",
    "\n",
    "- 书名：《C++ Primer》（第五版）\n",
    "- 作者：Stanley B. Lippman, Josée Lajoie, Barbara E. Moo\n",
    "- 出版社：Addison-Wesley Professional\n",
    "- 出版日期：2012年8月\n",
    "- ISBN：978-0321714114\n",
    "\n",
    "## 获取途径\n",
    "\n",
    "您可以通过以下途径获取本书：\n",
    "1. 各大书店或线上书店购买纸质版\n",
    "2. 购买官方电子版（Amazon Kindle, Google Play Books等）\n",
    "3. 访问出版社网站：[Addison-Wesley Professional](https://www.informit.com/store/c-plus-plus-primer-9780321714114)\n",
    "\n",
    "## 相关在线资源\n",
    "\n",
    "- [C++ Reference](https://en.cppreference.com/w/) - C++标准库参考\n",
    "- [C++ Standard](https://isocpp.org/) - C++标准委员会官方网站\n",
    "- [C++ Core Guidelines](https://isocpp.github.io/CppCoreGuidelines/CppCoreGuidelines) - C++核心指南\n",
    "\n",
    "## 注意事项\n",
    "\n",
    "- 请勿在此目录分享侵犯版权的电子书文件\n",
    "- 仅存放合法获取的参考资料\n",
    "- 建议购买正版书籍支持作者\n",
    "\n",
    "#参考资料 #C++ "
   ]
  }
 ],
 "metadata": {
  "jupytext": {
   "cell_metadata_filter": "-all",
   "formats": "md,ipynb",
   "main_language": "python"
  }
 },
 "nbformat": 4,
 "nbformat_minor": 5
}
