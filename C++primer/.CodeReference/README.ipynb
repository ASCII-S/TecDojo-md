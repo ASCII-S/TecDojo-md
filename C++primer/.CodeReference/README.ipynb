{
 "cells": [
  {
   "cell_type": "markdown",
   "id": "c1bea1a9",
   "metadata": {},
   "source": [
    "# C++ Primer 官方代码参考\n",
    "\n",
    "本目录包含《C++ Primer》（第五版）官方示例代码，按章节进行组织。\n",
    "\n",
    "## 目录结构\n",
    "\n",
    "各数字目录对应书中章节：\n",
    "- `1/` - 第1章（开始）示例代码\n",
    "- `2/` - 第2章（变量和基本类型）示例代码\n",
    "- `3/` - 第3章（字符串、向量和数组）示例代码\n",
    "- ...以此类推\n",
    "\n",
    "## 编译说明\n",
    "\n",
    "书中示例代码主要支持以下编译器：\n",
    "- GCC 4.7.0及以上版本\n",
    "- Clang 3.3及以上版本\n",
    "- Visual Studio 2012及以上版本\n",
    "\n",
    "详细编译说明请参考：\n",
    "- `GCC 4.7 README.pdf` - GCC环境下的编译说明\n",
    "- `CompilerNotes.pdf` - 各编译器兼容性说明\n",
    "\n",
    "## 编译辅助文件\n",
    "\n",
    "- `GNU_makefile_template` - GNU环境下的Makefile模板\n",
    "- `makefile` - 标准Makefile\n",
    "- `Version_test.h` - 编译器版本与特性检测头文件\n",
    "\n",
    "## 代码使用注意事项\n",
    "\n",
    "1. 部分示例代码可能需要C++11支持\n",
    "2. 不同编译器下可能需要调整部分代码\n",
    "3. 建议在学习过程中亲自编写代码，而不仅仅运行示例\n",
    "\n",
    "#代码参考 #C++ "
   ]
  }
 ],
 "metadata": {
  "jupytext": {
   "cell_metadata_filter": "-all",
   "formats": "md,ipynb",
   "main_language": "python"
  }
 },
 "nbformat": 4,
 "nbformat_minor": 5
}
